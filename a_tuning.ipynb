{
 "metadata": {
  "language_info": {
   "codemirror_mode": {
    "name": "ipython",
    "version": 3
   },
   "file_extension": ".py",
   "mimetype": "text/x-python",
   "name": "python",
   "nbconvert_exporter": "python",
   "pygments_lexer": "ipython3",
   "version": "3.7.7-final"
  },
  "orig_nbformat": 2,
  "kernelspec": {
   "name": "python_defaultSpec_1598374173863",
   "display_name": "Python 3.7.7 64-bit ('t_p': conda)"
  }
 },
 "nbformat": 4,
 "nbformat_minor": 2,
 "cells": [
  {
   "cell_type": "code",
   "execution_count": 31,
   "metadata": {},
   "outputs": [],
   "source": [
    "import tensorflow as tf\n",
    "from tensorflow import keras\n",
    "#from tensorflow.keras.applications import VGG16\n",
    "from tensorflow.keras import models\n",
    "from tensorflow.keras import layers\n",
    "from tensorflow.keras import optimizers\n",
    "import IPython"
   ]
  },
  {
   "cell_type": "code",
   "execution_count": 32,
   "metadata": {
    "tags": []
   },
   "outputs": [
    {
     "output_type": "stream",
     "name": "stdout",
     "text": "Requirement already satisfied: keras-tuner in c:\\users\\paplu\\anaconda3\\envs\\t_p\\lib\\site-packages (1.0.1)\nRequirement already satisfied: terminaltables in c:\\users\\paplu\\anaconda3\\envs\\t_p\\lib\\site-packages (from keras-tuner) (3.1.0)\nRequirement already satisfied: requests in c:\\users\\paplu\\anaconda3\\envs\\t_p\\lib\\site-packages (from keras-tuner) (2.24.0)\nRequirement already satisfied: colorama in c:\\users\\paplu\\anaconda3\\envs\\t_p\\lib\\site-packages (from keras-tuner) (0.4.3)\nRequirement already satisfied: scikit-learn in c:\\users\\paplu\\anaconda3\\envs\\t_p\\lib\\site-packages (from keras-tuner) (0.23.2)\nRequirement already satisfied: tabulate in c:\\users\\paplu\\anaconda3\\envs\\t_p\\lib\\site-packages (from keras-tuner) (0.8.7)\nRequirement already satisfied: numpy in c:\\users\\paplu\\anaconda3\\envs\\t_p\\lib\\site-packages (from keras-tuner) (1.16.0)\nRequirement already satisfied: tqdm in c:\\users\\paplu\\anaconda3\\envs\\t_p\\lib\\site-packages (from keras-tuner) (4.48.2)\nRequirement already satisfied: scipy in c:\\users\\paplu\\anaconda3\\envs\\t_p\\lib\\site-packages (from keras-tuner) (1.4.1)\nRequirement already satisfied: future in c:\\users\\paplu\\anaconda3\\envs\\t_p\\lib\\site-packages (from keras-tuner) (0.18.2)\nRequirement already satisfied: certifi>=2017.4.17 in c:\\users\\paplu\\anaconda3\\envs\\t_p\\lib\\site-packages (from requests->keras-tuner) (2020.6.20)\nRequirement already satisfied: chardet<4,>=3.0.2 in c:\\users\\paplu\\anaconda3\\envs\\t_p\\lib\\site-packages (from requests->keras-tuner) (3.0.4)\nRequirement already satisfied: urllib3!=1.25.0,!=1.25.1,<1.26,>=1.21.1 in c:\\users\\paplu\\anaconda3\\envs\\t_p\\lib\\site-packages (from requests->keras-tuner) (1.25.10)\nRequirement already satisfied: idna<3,>=2.5 in c:\\users\\paplu\\anaconda3\\envs\\t_p\\lib\\site-packages (from requests->keras-tuner) (2.10)\nRequirement already satisfied: threadpoolctl>=2.0.0 in c:\\users\\paplu\\anaconda3\\envs\\t_p\\lib\\site-packages (from scikit-learn->keras-tuner) (2.1.0)\nRequirement already satisfied: joblib>=0.11 in c:\\users\\paplu\\anaconda3\\envs\\t_p\\lib\\site-packages (from scikit-learn->keras-tuner) (0.16.0)\nRequirement already satisfied: hiplot in c:\\users\\paplu\\anaconda3\\envs\\t_p\\lib\\site-packages (0.1.19)\nRequirement already satisfied: flask-compress in c:\\users\\paplu\\anaconda3\\envs\\t_p\\lib\\site-packages (from hiplot) (1.5.0)\nRequirement already satisfied: ipython>=7.0.1 in c:\\users\\paplu\\anaconda3\\envs\\t_p\\lib\\site-packages (from hiplot) (7.17.0)\nRequirement already satisfied: beautifulsoup4 in c:\\users\\paplu\\anaconda3\\envs\\t_p\\lib\\site-packages (from hiplot) (4.9.1)\nRequirement already satisfied: flask in c:\\users\\paplu\\anaconda3\\envs\\t_p\\lib\\site-packages (from hiplot) (1.1.2)\nRequirement already satisfied: brotli in c:\\users\\paplu\\anaconda3\\envs\\t_p\\lib\\site-packages (from flask-compress->hiplot) (1.0.7)\nRequirement already satisfied: decorator in c:\\users\\paplu\\anaconda3\\envs\\t_p\\lib\\site-packages (from ipython>=7.0.1->hiplot) (4.4.2)\nRequirement already satisfied: traitlets>=4.2 in c:\\users\\paplu\\anaconda3\\envs\\t_p\\lib\\site-packages (from ipython>=7.0.1->hiplot) (4.3.3)\nRequirement already satisfied: setuptools>=18.5 in c:\\users\\paplu\\anaconda3\\envs\\t_p\\lib\\site-packages (from ipython>=7.0.1->hiplot) (49.6.0.post20200814)\nRequirement already satisfied: prompt-toolkit!=3.0.0,!=3.0.1,<3.1.0,>=2.0.0 in c:\\users\\paplu\\anaconda3\\envs\\t_p\\lib\\site-packages (from ipython>=7.0.1->hiplot) (3.0.5)\nRequirement already satisfied: pygments in c:\\users\\paplu\\anaconda3\\envs\\t_p\\lib\\site-packages (from ipython>=7.0.1->hiplot) (2.6.1)\nRequirement already satisfied: colorama; sys_platform == \"win32\" in c:\\users\\paplu\\anaconda3\\envs\\t_p\\lib\\site-packages (from ipython>=7.0.1->hiplot) (0.4.3)\nRequirement already satisfied: jedi>=0.10 in c:\\users\\paplu\\anaconda3\\envs\\t_p\\lib\\site-packages (from ipython>=7.0.1->hiplot) (0.17.2)\nRequirement already satisfied: pickleshare in c:\\users\\paplu\\anaconda3\\envs\\t_p\\lib\\site-packages (from ipython>=7.0.1->hiplot) (0.7.5)\nRequirement already satisfied: backcall in c:\\users\\paplu\\anaconda3\\envs\\t_p\\lib\\site-packages (from ipython>=7.0.1->hiplot) (0.2.0)\nRequirement already satisfied: soupsieve>1.2 in c:\\users\\paplu\\anaconda3\\envs\\t_p\\lib\\site-packages (from beautifulsoup4->hiplot) (2.0.1)\nRequirement already satisfied: itsdangerous>=0.24 in c:\\users\\paplu\\anaconda3\\envs\\t_p\\lib\\site-packages (from flask->hiplot) (1.1.0)\nRequirement already satisfied: Jinja2>=2.10.1 in c:\\users\\paplu\\anaconda3\\envs\\t_p\\lib\\site-packages (from flask->hiplot) (2.11.2)\nRequirement already satisfied: Werkzeug>=0.15 in c:\\users\\paplu\\anaconda3\\envs\\t_p\\lib\\site-packages (from flask->hiplot) (0.16.1)\nRequirement already satisfied: click>=5.1 in c:\\users\\paplu\\anaconda3\\envs\\t_p\\lib\\site-packages (from flask->hiplot) (7.1.2)\nRequirement already satisfied: ipython-genutils in c:\\users\\paplu\\anaconda3\\envs\\t_p\\lib\\site-packages (from traitlets>=4.2->ipython>=7.0.1->hiplot) (0.2.0)\nRequirement already satisfied: six in c:\\users\\paplu\\anaconda3\\envs\\t_p\\lib\\site-packages (from traitlets>=4.2->ipython>=7.0.1->hiplot) (1.15.0)\nRequirement already satisfied: wcwidth in c:\\users\\paplu\\anaconda3\\envs\\t_p\\lib\\site-packages (from prompt-toolkit!=3.0.0,!=3.0.1,<3.1.0,>=2.0.0->ipython>=7.0.1->hiplot) (0.2.5)\nRequirement already satisfied: parso<0.8.0,>=0.7.0 in c:\\users\\paplu\\anaconda3\\envs\\t_p\\lib\\site-packages (from jedi>=0.10->ipython>=7.0.1->hiplot) (0.7.0)\nRequirement already satisfied: MarkupSafe>=0.23 in c:\\users\\paplu\\anaconda3\\envs\\t_p\\lib\\site-packages (from Jinja2>=2.10.1->flask->hiplot) (1.1.1)\n"
    }
   ],
   "source": [
    "!pip install keras-tuner\n",
    "!pip install hiplot"
   ]
  },
  {
   "cell_type": "code",
   "execution_count": 33,
   "metadata": {},
   "outputs": [],
   "source": [
    "import kerastuner as kt\n",
    "\n",
    "from keras.preprocessing.image import ImageDataGenerator"
   ]
  },
  {
   "cell_type": "code",
   "execution_count": 34,
   "metadata": {},
   "outputs": [],
   "source": [
    "test_datagen = ImageDataGenerator(rescale=1. / 255)"
   ]
  },
  {
   "cell_type": "code",
   "execution_count": 35,
   "metadata": {},
   "outputs": [],
   "source": [
    "validation_dir=\"W:\\\\param's direc\\\\traffic_classifiation_project\\\\final_dataset\\\\validation\""
   ]
  },
  {
   "cell_type": "code",
   "execution_count": 36,
   "metadata": {
    "tags": []
   },
   "outputs": [
    {
     "output_type": "stream",
     "name": "stdout",
     "text": "Found 19999 images belonging to 4 classes.\n"
    }
   ],
   "source": [
    "validation_generator = test_datagen.flow_from_directory(validation_dir,\n",
    "                                                        target_size=(150,150),\n",
    "                                                        batch_size=64,\n",
    "                                                        class_mode='categorical')"
   ]
  },
  {
   "cell_type": "code",
   "execution_count": 37,
   "metadata": {
    "tags": []
   },
   "outputs": [
    {
     "output_type": "stream",
     "name": "stdout",
     "text": "validation done\n"
    }
   ],
   "source": [
    "print(\"validation done\")"
   ]
  },
  {
   "cell_type": "code",
   "execution_count": 38,
   "metadata": {},
   "outputs": [],
   "source": [
    "import tensorflow as tf\n",
    "def model_builder(hp):\n",
    "  train_dir=\"W:\\\\param's direc\\\\traffic_classifiation_project\\\\final_dataset\\\\train\"\n",
    "  train_datagen = ImageDataGenerator(rescale=1. / 255,\n",
    "                                   zoom_range=hp.Float('zoom_range',\n",
    "                                                        min_value=0.0,\n",
    "                                                        max_value=0.5,\n",
    "                                                        default=0.05,\n",
    "                                                        step=0.05\n",
    "                                                      ),\n",
    "                                   width_shift_range=hp.Float('width_shift_range',\n",
    "                                                        min_value=0.0,\n",
    "                                                        max_value=0.5,\n",
    "                                                        default=0.05,\n",
    "                                                        step=0.05\n",
    "                                                      ),\n",
    "                                   height_shift_range=hp.Float('height_shift_range',\n",
    "                                                        min_value=0.0,\n",
    "                                                        max_value=0.5,\n",
    "                                                        default=0.05,\n",
    "                                                        step=0.05\n",
    "                                                      ),\n",
    "                                   shear_range=hp.Float('shear_range',\n",
    "                                                        min_value=0.0,\n",
    "                                                        max_value=0.5,\n",
    "                                                        default=0.05,\n",
    "                                                        step=0.05\n",
    "                                                      ),\n",
    "                                   vertical_flip=hp.Choice('vertical_flip',\n",
    "                                                            values=[True,False],\n",
    "                                                            default=True),\n",
    "                                   fill_mode=\"nearest\")\n",
    "  global train_generator \n",
    "  train_generator = train_datagen.flow_from_directory(train_dir,\n",
    "                                                    target_size=(150,150),\n",
    "                                                    batch_size=64,\n",
    "                                                    class_mode='categorical')\n",
    "\n",
    "\n",
    "  num_block = hp.Int('num_block', min_value=2, max_value=10, step=1)\n",
    "  num_filters=[]\n",
    "  for i in range(num_block):\n",
    "    num_filters.append(hp.Int(f'num_filters_{str(i)}', min_value=32, max_value=128, step=32))\n",
    "  dropout=[]\n",
    "  for j in range(num_block):\n",
    "    dropout.append(hp.Float(f'dropout_{str(j)}',min_value=0.0,max_value=0.5,default=0.25,step=0.05))\n",
    "\n",
    "  # num_filters = hp.Int('num_filters', min_value=32, max_value=128, step=32)\n",
    "  model = keras.Sequential()\n",
    "  model.add(\n",
    "            tf.keras.layers.Conv2D(\n",
    "                filters=num_filters[0],\n",
    "                kernel_size=3,\n",
    "                activation='relu',\n",
    "                padding='same',\n",
    "                input_shape=(150,150,3)\n",
    "            )\n",
    "        )\n",
    "  model.add(tf.keras.layers.MaxPooling2D(pool_size=2))\n",
    "  model.add(\n",
    "            tf.keras.layers.Dropout(\n",
    "                rate=dropout[0]\n",
    "            )\n",
    "        )\n",
    "  for i in range(1,num_block):\n",
    "    model.add(\n",
    "            tf.keras.layers.Conv2D(\n",
    "                filters=num_filters[i],\n",
    "                kernel_size=3,\n",
    "                activation='relu',\n",
    "                padding='same',\n",
    "            )\n",
    "        )\n",
    "    # model.add(tf.keras.layers.MaxPooling2D(pool_size=2))\n",
    "    model.add(\n",
    "            tf.keras.layers.Dropout(\n",
    "                rate=dropout[i]\n",
    "            )\n",
    "        )\n",
    "    \n",
    "        #flattening\n",
    "  model.add(tf.keras.layers.Flatten())\n",
    "  dence_block = hp.Int('dence_block', min_value=2, max_value=6, step=1)\n",
    "  layer_Neurons=[]\n",
    "  dense_activation=[]\n",
    "  for i in range(dence_block):\n",
    "    layer_Neurons.append(hp.Int(f'layer_Neurons_{str(i)}',\n",
    "                    min_value=32,\n",
    "                    max_value=512,\n",
    "                    step=32,\n",
    "                    default=128\n",
    "                ))\n",
    "    dense_activation.append(hp.Choice(f'dense_activation_{str(i)}',\n",
    "                    values=['relu', 'tanh', 'sigmoid'],\n",
    "                    default='relu'\n",
    "                ))\n",
    "        #dense_layer_1\n",
    "  for i in range(dence_block):\n",
    "\n",
    "    model.add(\n",
    "            tf.keras.layers.Dense(\n",
    "                units=layer_Neurons[i],\n",
    "                activation=dense_activation[i]\n",
    "            )\n",
    "        )  \n",
    "  model.add(tf.keras.layers.Dense(4, activation='softmax'))\n",
    "  hp_learning_rate = hp.Choice('learning_rate', values=[1e-2, 1e-3, 1e-4])\n",
    "  model.compile(loss='categorical_crossentropy',\n",
    "                optimizer=optimizers.Adam(learning_rate=hp_learning_rate),\n",
    "                metrics=['accuracy'])\n",
    "  return model"
   ]
  },
  {
   "cell_type": "code",
   "execution_count": null,
   "metadata": {},
   "outputs": [],
   "source": []
  },
  {
   "cell_type": "code",
   "execution_count": 39,
   "metadata": {
    "tags": []
   },
   "outputs": [
    {
     "output_type": "stream",
     "name": "stdout",
     "text": "modelling done\n"
    }
   ],
   "source": [
    "print(\"modelling done\")"
   ]
  },
  {
   "cell_type": "code",
   "execution_count": 40,
   "metadata": {
    "tags": []
   },
   "outputs": [
    {
     "output_type": "stream",
     "name": "stdout",
     "text": "Found 381607 images belonging to 4 classes.\n"
    }
   ],
   "source": [
    "from kerastuner.tuners import RandomSearch\n",
    "tuner = RandomSearch(\n",
    "    model_builder,\n",
    "    objective='val_accuracy',\n",
    "    max_trials=25,\n",
    "    executions_per_trial=3,\n",
    "    directory=\"W:\\\\param's direc\\\\traffic_classifiation_project\\\\final_dataset\\\\my_cp_dir\",\n",
    "    project_name='random_search')"
   ]
  },
  {
   "cell_type": "code",
   "execution_count": 41,
   "metadata": {},
   "outputs": [],
   "source": [
    "# buildModel(hp)\n",
    "# model = tf.keras.models.load_model('ModelCheckPoint\\ckpt.hdf5')\n",
    "# do this for resuming training"
   ]
  },
  {
   "cell_type": "code",
   "execution_count": 42,
   "metadata": {},
   "outputs": [],
   "source": [
    "class ClearTrainingOutput(tf.keras.callbacks.Callback):\n",
    "  def on_train_end(*args, **kwargs):\n",
    "    IPython.display.clear_output(wait = True)"
   ]
  },
  {
   "cell_type": "code",
   "execution_count": 43,
   "metadata": {},
   "outputs": [],
   "source": [
    "checkpoint_path=\"W:\\\\param's direc\\\\traffic_classifiation_project\\\\final_dataset\\\\cp_dir\\\\final\\\\model{epoch:08d}.hdf5\"\n",
    "my_callbacks = [\n",
    "    tf.keras.callbacks.EarlyStopping(monitor='val_loss', patience=3),\n",
    "    tf.keras.callbacks.ModelCheckpoint(filepath=checkpoint_path,save_best_only=True, save_weights_only=False, verbose=1),\n",
    "    tf.keras.callbacks.TensorBoard(log_dir=\"W:\\\\param's direc\\\\traffic_classifiation_project\\\\final_dataset\\\\tuning_results\\\\logs\"),\n",
    "]"
   ]
  },
  {
   "cell_type": "code",
   "execution_count": 44,
   "metadata": {
    "tags": []
   },
   "outputs": [
    {
     "output_type": "stream",
     "name": "stdout",
     "text": "Found 381607 images belonging to 4 classes.\nEpoch 1/30\n 1/99 [..............................] - ETA: 0s - loss: 1.3879 - accuracy: 0.21 2/99 [..............................] - ETA: 1:39 - loss: 1.3862 - accuracy: 0.2266WARNING:tensorflow:Callbacks method `on_train_batch_end` is slow compared to the batch time (batch time: 0.4660s vs `on_train_batch_end` time: 1.5940s). Check your callbacks.\n 3/99 [..............................] - ETA: 1:29 - loss: 1.3905 - accuracy: 0.21 4/99 [>.............................] - ETA: 1:26 - loss: 1.3892 - accuracy: 0.23 5/99 [>.............................] - ETA: 1:24 - loss: 1.3881 - accuracy: 0.24 6/99 [>.............................] - ETA: 1:22 - loss: 1.3867 - accuracy: 0.26 7/99 [=>............................] - ETA: 1:21 - loss: 1.3828 - accuracy: 0.27 8/99 [=>............................] - ETA: 1:19 - loss: 1.3769 - accuracy: 0.28 9/99 [=>............................] - ETA: 1:18 - loss: 1.3846 - accuracy: 0.2810/99 [==>...........................] - ETA: 1:16 - loss: 1.4017 - accuracy: 0.2711/99 [==>...........................] - ETA: 1:16 - loss: 1.4012 - accuracy: 0.2612/99 [==>...........................] - ETA: 1:15 - loss: 1.3989 - accuracy: 0.2613/99 [==>...........................] - ETA: 1:14 - loss: 1.3973 - accuracy: 0.2714/99 [===>..........................] - ETA: 1:12 - loss: 1.3958 - accuracy: 0.2815/99 [===>..........................] - ETA: 1:11 - loss: 1.3943 - accuracy: 0.2816/99 [===>..........................] - ETA: 1:11 - loss: 1.3935 - accuracy: 0.2817/99 [====>.........................] - ETA: 1:10 - loss: 1.3920 - accuracy: 0.2918/99 [====>.........................] - ETA: 1:09 - loss: 1.3909 - accuracy: 0.2919/99 [====>.........................] - ETA: 1:08 - loss: 1.3896 - accuracy: 0.2920/99 [=====>........................] - ETA: 1:07 - loss: 1.3888 - accuracy: 0.2921/99 [=====>........................] - ETA: 1:06 - loss: 1.3870 - accuracy: 0.2922/99 [=====>........................] - ETA: 1:05 - loss: 1.3876 - accuracy: 0.2923/99 [=====>........................] - ETA: 1:05 - loss: 1.3859 - accuracy: 0.2924/99 [======>.......................] - ETA: 1:04 - loss: 1.3857 - accuracy: 0.2925/99 [======>.......................] - ETA: 1:03 - loss: 1.3847 - accuracy: 0.3026/99 [======>.......................] - ETA: 1:02 - loss: 1.3821 - accuracy: 0.3027/99 [=======>......................] - ETA: 1:01 - loss: 1.3819 - accuracy: 0.3028/99 [=======>......................] - ETA: 1:00 - loss: 1.3799 - accuracy: 0.3029/99 [=======>......................] - ETA: 59s - loss: 1.3776 - accuracy: 0.31030/99 [========>.....................] - ETA: 58s - loss: 1.3757 - accuracy: 0.31131/99 [========>.....................] - ETA: 57s - loss: 1.3776 - accuracy: 0.30932/99 [========>.....................] - ETA: 57s - loss: 1.3793 - accuracy: 0.30733/99 [=========>....................] - ETA: 56s - loss: 1.3775 - accuracy: 0.30834/99 [=========>....................] - ETA: 55s - loss: 1.3773 - accuracy: 0.30835/99 [=========>....................] - ETA: 54s - loss: 1.3766 - accuracy: 0.30836/99 [=========>....................] - ETA: 53s - loss: 1.3763 - accuracy: 0.30937/99 [==========>...................] - ETA: 52s - loss: 1.3760 - accuracy: 0.30938/99 [==========>...................] - ETA: 52s - loss: 1.3751 - accuracy: 0.31139/99 [==========>...................] - ETA: 51s - loss: 1.3752 - accuracy: 0.31040/99 [===========>..................] - ETA: 50s - loss: 1.3747 - accuracy: 0.31141/99 [===========>..................] - ETA: 49s - loss: 1.3745 - accuracy: 0.31042/99 [===========>..................] - ETA: 48s - loss: 1.3739 - accuracy: 0.30943/99 [============>.................] - ETA: 47s - loss: 1.3741 - accuracy: 0.31044/99 [============>.................] - ETA: 46s - loss: 1.3736 - accuracy: 0.31045/99 [============>.................] - ETA: 46s - loss: 1.3734 - accuracy: 0.30946/99 [============>.................] - ETA: 45s - loss: 1.3725 - accuracy: 0.30847/99 [=============>................] - ETA: 44s - loss: 1.3720 - accuracy: 0.31048/99 [=============>................] - ETA: 43s - loss: 1.3715 - accuracy: 0.31049/99 [=============>................] - ETA: 42s - loss: 1.3713 - accuracy: 0.30950/99 [==============>...............] - ETA: 41s - loss: 1.3711 - accuracy: 0.30951/99 [==============>...............] - ETA: 40s - loss: 1.3703 - accuracy: 0.31152/99 [==============>...............] - ETA: 39s - loss: 1.3689 - accuracy: 0.31253/99 [===============>..............] - ETA: 39s - loss: 1.3692 - accuracy: 0.31154/99 [===============>..............] - ETA: 38s - loss: 1.3696 - accuracy: 0.31055/99 [===============>..............] - ETA: 37s - loss: 1.3686 - accuracy: 0.31356/99 [===============>..............] - ETA: 36s - loss: 1.3676 - accuracy: 0.31357/99 [================>.............] - ETA: 35s - loss: 1.3675 - accuracy: 0.31558/99 [================>.............] - ETA: 34s - loss: 1.3689 - accuracy: 0.31459/99 [================>.............] - ETA: 34s - loss: 1.3688 - accuracy: 0.31360/99 [=================>............] - ETA: 33s - loss: 1.3681 - accuracy: 0.31461/99 [=================>............] - ETA: 32s - loss: 1.3679 - accuracy: 0.31362/99 [=================>............] - ETA: 31s - loss: 1.3681 - accuracy: 0.31263/99 [==================>...........] - ETA: 30s - loss: 1.3682 - accuracy: 0.31364/99 [==================>...........] - ETA: 29s - loss: 1.3682 - accuracy: 0.31365/99 [==================>...........] - ETA: 28s - loss: 1.3680 - accuracy: 0.31266/99 [===================>..........] - ETA: 28s - loss: 1.3674 - accuracy: 0.31367/99 [===================>..........] - ETA: 27s - loss: 1.3671 - accuracy: 0.31468/99 [===================>..........] - ETA: 26s - loss: 1.3672 - accuracy: 0.31469/99 [===================>..........] - ETA: 25s - loss: 1.3668 - accuracy: 0.31370/99 [====================>.........] - ETA: 24s - loss: 1.3668 - accuracy: 0.31471/99 [====================>.........] - ETA: 23s - loss: 1.3670 - accuracy: 0.31472/99 [====================>.........] - ETA: 22s - loss: 1.3667 - accuracy: 0.31473/99 [=====================>........] - ETA: 22s - loss: 1.3663 - accuracy: 0.31574/99 [=====================>........] - ETA: 21s - loss: 1.3655 - accuracy: 0.31675/99 [=====================>........] - ETA: 20s - loss: 1.3655 - accuracy: 0.31576/99 [======================>.......] - ETA: 19s - loss: 1.3649 - accuracy: 0.31777/99 [======================>.......] - ETA: 18s - loss: 1.3656 - accuracy: 0.31778/99 [======================>.......] - ETA: 17s - loss: 1.3649 - accuracy: 0.31879/99 [======================>.......] - ETA: 17s - loss: 1.3651 - accuracy: 0.31780/99 [=======================>......] - ETA: 16s - loss: 1.3651 - accuracy: 0.31781/99 [=======================>......] - ETA: 15s - loss: 1.3648 - accuracy: 0.31882/99 [=======================>......] - ETA: 14s - loss: 1.3650 - accuracy: 0.31683/99 [========================>.....] - ETA: 13s - loss: 1.3647 - accuracy: 0.31684/99 [========================>.....] - ETA: 12s - loss: 1.3641 - accuracy: 0.31785/99 [========================>.....] - ETA: 11s - loss: 1.3640 - accuracy: 0.31786/99 [=========================>....] - ETA: 11s - loss: 1.3639 - accuracy: 0.31887/99 [=========================>....] - ETA: 10s - loss: 1.3633 - accuracy: 0.31888/99 [=========================>....] - ETA: 9s - loss: 1.3633 - accuracy: 0.3189/99 [=========================>....] - ETA: 8s - loss: 1.3630 - accuracy: 0.3190/99 [==========================>...] - ETA: 7s - loss: 1.3626 - accuracy: 0.3191/99 [==========================>...] - ETA: 6s - loss: 1.3628 - accuracy: 0.3192/99 [==========================>...] - ETA: 5s - loss: 1.3625 - accuracy: 0.3293/99 [===========================>..] - ETA: 5s - loss: 1.3626 - accuracy: 0.3194/99 [===========================>..] - ETA: 4s - loss: 1.3624 - accuracy: 0.3195/99 [===========================>..] - ETA: 3s - loss: 1.3623 - accuracy: 0.3196/99 [============================>.] - ETA: 2s - loss: 1.3616 - accuracy: 0.3297/99 [============================>.] - ETA: 1s - loss: 1.3617 - accuracy: 0.3298/99 [============================>.] - ETA: 0s - loss: 1.3613 - accuracy: 0.3299/99 [==============================] - ETA: 0s - loss: 1.3616 - accuracy: 0.3205\nEpoch 00001: val_loss improved from inf to 1.43299, saving model to W:\\param's direc\\traffic_classifiation_project\\final_dataset\\tuning_results\\final\\model00000001.hdf5\n99/99 [==============================] - 105s 1s/step - loss: 1.3616 - accuracy: 0.3205 - val_loss: 1.4330 - val_accuracy: 0.2471\nEpoch 2/30\n 1/99 [..............................] - ETA: 0s - loss: 1.2892 - accuracy: 0.31 2/99 [..............................] - ETA: 38s - loss: 1.3103 - accuracy: 0.328 3/99 [..............................] - ETA: 52s - loss: 1.3344 - accuracy: 0.322 4/99 [>.............................] - ETA: 58s - loss: 1.3379 - accuracy: 0.332 5/99 [>.............................] - ETA: 1:02 - loss: 1.3469 - accuracy: 0.33 6/99 [>.............................] - ETA: 1:05 - loss: 1.3372 - accuracy: 0.34 7/99 [=>............................] - ETA: 1:06 - loss: 1.3372 - accuracy: 0.35 8/99 [=>............................] - ETA: 1:09 - loss: 1.3397 - accuracy: 0.34 9/99 [=>............................] - ETA: 1:10 - loss: 1.3403 - accuracy: 0.3310/99 [==>...........................] - ETA: 1:10 - loss: 1.3394 - accuracy: 0.3311/99 [==>...........................] - ETA: 1:10 - loss: 1.3437 - accuracy: 0.3312/99 [==>...........................] - ETA: 1:09 - loss: 1.3427 - accuracy: 0.3313/99 [==>...........................] - ETA: 1:09 - loss: 1.3450 - accuracy: 0.3214/99 [===>..........................] - ETA: 1:09 - loss: 1.3483 - accuracy: 0.3215/99 [===>..........................] - ETA: 1:08 - loss: 1.3495 - accuracy: 0.3216/99 [===>..........................] - ETA: 1:08 - loss: 1.3481 - accuracy: 0.3317/99 [====>.........................] - ETA: 1:07 - loss: 1.3475 - accuracy: 0.3318/99 [====>.........................] - ETA: 1:06 - loss: 1.3457 - accuracy: 0.3419/99 [====>.........................] - ETA: 1:06 - loss: 1.3443 - accuracy: 0.3420/99 [=====>........................] - ETA: 1:05 - loss: 1.3447 - accuracy: 0.3421/99 [=====>........................] - ETA: 1:05 - loss: 1.3459 - accuracy: 0.3422/99 [=====>........................] - ETA: 1:04 - loss: 1.3447 - accuracy: 0.3423/99 [=====>........................] - ETA: 1:03 - loss: 1.3434 - accuracy: 0.3424/99 [======>.......................] - ETA: 1:02 - loss: 1.3425 - accuracy: 0.3425/99 [======>.......................] - ETA: 1:02 - loss: 1.3420 - accuracy: 0.3426/99 [======>.......................] - ETA: 1:01 - loss: 1.3439 - accuracy: 0.3427/99 [=======>......................] - ETA: 1:00 - loss: 1.3418 - accuracy: 0.3428/99 [=======>......................] - ETA: 59s - loss: 1.3443 - accuracy: 0.34229/99 [=======>......................] - ETA: 58s - loss: 1.3442 - accuracy: 0.34330/99 [========>.....................] - ETA: 57s - loss: 1.3429 - accuracy: 0.34531/99 [========>.....................] - ETA: 57s - loss: 1.3433 - accuracy: 0.34532/99 [========>.....................] - ETA: 56s - loss: 1.3430 - accuracy: 0.34633/99 [=========>....................] - ETA: 55s - loss: 1.3444 - accuracy: 0.34434/99 [=========>....................] - ETA: 55s - loss: 1.3453 - accuracy: 0.34435/99 [=========>....................] - ETA: 55s - loss: 1.3452 - accuracy: 0.34536/99 [=========>....................] - ETA: 54s - loss: 1.3448 - accuracy: 0.34637/99 [==========>...................] - ETA: 53s - loss: 1.3462 - accuracy: 0.34438/99 [==========>...................] - ETA: 52s - loss: 1.3471 - accuracy: 0.3425"
    },
    {
     "output_type": "error",
     "ename": "KeyboardInterrupt",
     "evalue": "",
     "traceback": [
      "\u001b[1;31m---------------------------------------------------------------------------\u001b[0m",
      "\u001b[1;31mKeyboardInterrupt\u001b[0m                         Traceback (most recent call last)",
      "\u001b[1;32m<ipython-input-44-cbb7b9c25e44>\u001b[0m in \u001b[0;36m<module>\u001b[1;34m\u001b[0m\n\u001b[0;32m      5\u001b[0m              \u001b[0mvalidation_data\u001b[0m\u001b[1;33m=\u001b[0m\u001b[0mvalidation_generator\u001b[0m\u001b[1;33m,\u001b[0m\u001b[1;33m\u001b[0m\u001b[1;33m\u001b[0m\u001b[0m\n\u001b[0;32m      6\u001b[0m              \u001b[0mvalidation_steps\u001b[0m\u001b[1;33m=\u001b[0m\u001b[1;36m19999\u001b[0m \u001b[1;33m//\u001b[0m \u001b[1;36m1200\u001b[0m\u001b[1;33m,\u001b[0m\u001b[1;33m\u001b[0m\u001b[1;33m\u001b[0m\u001b[0m\n\u001b[1;32m----> 7\u001b[1;33m              callbacks=my_callbacks)\n\u001b[0m",
      "\u001b[1;32m~\\anaconda3\\envs\\t_p\\lib\\site-packages\\kerastuner\\engine\\base_tuner.py\u001b[0m in \u001b[0;36msearch\u001b[1;34m(self, *fit_args, **fit_kwargs)\u001b[0m\n\u001b[0;32m    128\u001b[0m \u001b[1;33m\u001b[0m\u001b[0m\n\u001b[0;32m    129\u001b[0m             \u001b[0mself\u001b[0m\u001b[1;33m.\u001b[0m\u001b[0mon_trial_begin\u001b[0m\u001b[1;33m(\u001b[0m\u001b[0mtrial\u001b[0m\u001b[1;33m)\u001b[0m\u001b[1;33m\u001b[0m\u001b[1;33m\u001b[0m\u001b[0m\n\u001b[1;32m--> 130\u001b[1;33m             \u001b[0mself\u001b[0m\u001b[1;33m.\u001b[0m\u001b[0mrun_trial\u001b[0m\u001b[1;33m(\u001b[0m\u001b[0mtrial\u001b[0m\u001b[1;33m,\u001b[0m \u001b[1;33m*\u001b[0m\u001b[0mfit_args\u001b[0m\u001b[1;33m,\u001b[0m \u001b[1;33m**\u001b[0m\u001b[0mfit_kwargs\u001b[0m\u001b[1;33m)\u001b[0m\u001b[1;33m\u001b[0m\u001b[1;33m\u001b[0m\u001b[0m\n\u001b[0m\u001b[0;32m    131\u001b[0m             \u001b[0mself\u001b[0m\u001b[1;33m.\u001b[0m\u001b[0mon_trial_end\u001b[0m\u001b[1;33m(\u001b[0m\u001b[0mtrial\u001b[0m\u001b[1;33m)\u001b[0m\u001b[1;33m\u001b[0m\u001b[1;33m\u001b[0m\u001b[0m\n\u001b[0;32m    132\u001b[0m         \u001b[0mself\u001b[0m\u001b[1;33m.\u001b[0m\u001b[0mon_search_end\u001b[0m\u001b[1;33m(\u001b[0m\u001b[1;33m)\u001b[0m\u001b[1;33m\u001b[0m\u001b[1;33m\u001b[0m\u001b[0m\n",
      "\u001b[1;32m~\\anaconda3\\envs\\t_p\\lib\\site-packages\\kerastuner\\engine\\multi_execution_tuner.py\u001b[0m in \u001b[0;36mrun_trial\u001b[1;34m(self, trial, *fit_args, **fit_kwargs)\u001b[0m\n\u001b[0;32m     94\u001b[0m \u001b[1;33m\u001b[0m\u001b[0m\n\u001b[0;32m     95\u001b[0m             \u001b[0mmodel\u001b[0m \u001b[1;33m=\u001b[0m \u001b[0mself\u001b[0m\u001b[1;33m.\u001b[0m\u001b[0mhypermodel\u001b[0m\u001b[1;33m.\u001b[0m\u001b[0mbuild\u001b[0m\u001b[1;33m(\u001b[0m\u001b[0mtrial\u001b[0m\u001b[1;33m.\u001b[0m\u001b[0mhyperparameters\u001b[0m\u001b[1;33m)\u001b[0m\u001b[1;33m\u001b[0m\u001b[1;33m\u001b[0m\u001b[0m\n\u001b[1;32m---> 96\u001b[1;33m             \u001b[0mhistory\u001b[0m \u001b[1;33m=\u001b[0m \u001b[0mmodel\u001b[0m\u001b[1;33m.\u001b[0m\u001b[0mfit\u001b[0m\u001b[1;33m(\u001b[0m\u001b[1;33m*\u001b[0m\u001b[0mfit_args\u001b[0m\u001b[1;33m,\u001b[0m \u001b[1;33m**\u001b[0m\u001b[0mcopied_fit_kwargs\u001b[0m\u001b[1;33m)\u001b[0m\u001b[1;33m\u001b[0m\u001b[1;33m\u001b[0m\u001b[0m\n\u001b[0m\u001b[0;32m     97\u001b[0m             \u001b[1;32mfor\u001b[0m \u001b[0mmetric\u001b[0m\u001b[1;33m,\u001b[0m \u001b[0mepoch_values\u001b[0m \u001b[1;32min\u001b[0m \u001b[0mhistory\u001b[0m\u001b[1;33m.\u001b[0m\u001b[0mhistory\u001b[0m\u001b[1;33m.\u001b[0m\u001b[0mitems\u001b[0m\u001b[1;33m(\u001b[0m\u001b[1;33m)\u001b[0m\u001b[1;33m:\u001b[0m\u001b[1;33m\u001b[0m\u001b[1;33m\u001b[0m\u001b[0m\n\u001b[0;32m     98\u001b[0m                 \u001b[1;32mif\u001b[0m \u001b[0mself\u001b[0m\u001b[1;33m.\u001b[0m\u001b[0moracle\u001b[0m\u001b[1;33m.\u001b[0m\u001b[0mobjective\u001b[0m\u001b[1;33m.\u001b[0m\u001b[0mdirection\u001b[0m \u001b[1;33m==\u001b[0m \u001b[1;34m'min'\u001b[0m\u001b[1;33m:\u001b[0m\u001b[1;33m\u001b[0m\u001b[1;33m\u001b[0m\u001b[0m\n",
      "\u001b[1;32m~\\AppData\\Roaming\\Python\\Python37\\site-packages\\tensorflow\\python\\keras\\engine\\training.py\u001b[0m in \u001b[0;36m_method_wrapper\u001b[1;34m(self, *args, **kwargs)\u001b[0m\n\u001b[0;32m    106\u001b[0m   \u001b[1;32mdef\u001b[0m \u001b[0m_method_wrapper\u001b[0m\u001b[1;33m(\u001b[0m\u001b[0mself\u001b[0m\u001b[1;33m,\u001b[0m \u001b[1;33m*\u001b[0m\u001b[0margs\u001b[0m\u001b[1;33m,\u001b[0m \u001b[1;33m**\u001b[0m\u001b[0mkwargs\u001b[0m\u001b[1;33m)\u001b[0m\u001b[1;33m:\u001b[0m\u001b[1;33m\u001b[0m\u001b[1;33m\u001b[0m\u001b[0m\n\u001b[0;32m    107\u001b[0m     \u001b[1;32mif\u001b[0m \u001b[1;32mnot\u001b[0m \u001b[0mself\u001b[0m\u001b[1;33m.\u001b[0m\u001b[0m_in_multi_worker_mode\u001b[0m\u001b[1;33m(\u001b[0m\u001b[1;33m)\u001b[0m\u001b[1;33m:\u001b[0m  \u001b[1;31m# pylint: disable=protected-access\u001b[0m\u001b[1;33m\u001b[0m\u001b[1;33m\u001b[0m\u001b[0m\n\u001b[1;32m--> 108\u001b[1;33m       \u001b[1;32mreturn\u001b[0m \u001b[0mmethod\u001b[0m\u001b[1;33m(\u001b[0m\u001b[0mself\u001b[0m\u001b[1;33m,\u001b[0m \u001b[1;33m*\u001b[0m\u001b[0margs\u001b[0m\u001b[1;33m,\u001b[0m \u001b[1;33m**\u001b[0m\u001b[0mkwargs\u001b[0m\u001b[1;33m)\u001b[0m\u001b[1;33m\u001b[0m\u001b[1;33m\u001b[0m\u001b[0m\n\u001b[0m\u001b[0;32m    109\u001b[0m \u001b[1;33m\u001b[0m\u001b[0m\n\u001b[0;32m    110\u001b[0m     \u001b[1;31m# Running inside `run_distribute_coordinator` already.\u001b[0m\u001b[1;33m\u001b[0m\u001b[1;33m\u001b[0m\u001b[1;33m\u001b[0m\u001b[0m\n",
      "\u001b[1;32m~\\AppData\\Roaming\\Python\\Python37\\site-packages\\tensorflow\\python\\keras\\engine\\training.py\u001b[0m in \u001b[0;36mfit\u001b[1;34m(self, x, y, batch_size, epochs, verbose, callbacks, validation_split, validation_data, shuffle, class_weight, sample_weight, initial_epoch, steps_per_epoch, validation_steps, validation_batch_size, validation_freq, max_queue_size, workers, use_multiprocessing)\u001b[0m\n\u001b[0;32m   1096\u001b[0m                 batch_size=batch_size):\n\u001b[0;32m   1097\u001b[0m               \u001b[0mcallbacks\u001b[0m\u001b[1;33m.\u001b[0m\u001b[0mon_train_batch_begin\u001b[0m\u001b[1;33m(\u001b[0m\u001b[0mstep\u001b[0m\u001b[1;33m)\u001b[0m\u001b[1;33m\u001b[0m\u001b[1;33m\u001b[0m\u001b[0m\n\u001b[1;32m-> 1098\u001b[1;33m               \u001b[0mtmp_logs\u001b[0m \u001b[1;33m=\u001b[0m \u001b[0mtrain_function\u001b[0m\u001b[1;33m(\u001b[0m\u001b[0miterator\u001b[0m\u001b[1;33m)\u001b[0m\u001b[1;33m\u001b[0m\u001b[1;33m\u001b[0m\u001b[0m\n\u001b[0m\u001b[0;32m   1099\u001b[0m               \u001b[1;32mif\u001b[0m \u001b[0mdata_handler\u001b[0m\u001b[1;33m.\u001b[0m\u001b[0mshould_sync\u001b[0m\u001b[1;33m:\u001b[0m\u001b[1;33m\u001b[0m\u001b[1;33m\u001b[0m\u001b[0m\n\u001b[0;32m   1100\u001b[0m                 \u001b[0mcontext\u001b[0m\u001b[1;33m.\u001b[0m\u001b[0masync_wait\u001b[0m\u001b[1;33m(\u001b[0m\u001b[1;33m)\u001b[0m\u001b[1;33m\u001b[0m\u001b[1;33m\u001b[0m\u001b[0m\n",
      "\u001b[1;32m~\\AppData\\Roaming\\Python\\Python37\\site-packages\\tensorflow\\python\\eager\\def_function.py\u001b[0m in \u001b[0;36m__call__\u001b[1;34m(self, *args, **kwds)\u001b[0m\n\u001b[0;32m    778\u001b[0m       \u001b[1;32melse\u001b[0m\u001b[1;33m:\u001b[0m\u001b[1;33m\u001b[0m\u001b[1;33m\u001b[0m\u001b[0m\n\u001b[0;32m    779\u001b[0m         \u001b[0mcompiler\u001b[0m \u001b[1;33m=\u001b[0m \u001b[1;34m\"nonXla\"\u001b[0m\u001b[1;33m\u001b[0m\u001b[1;33m\u001b[0m\u001b[0m\n\u001b[1;32m--> 780\u001b[1;33m         \u001b[0mresult\u001b[0m \u001b[1;33m=\u001b[0m \u001b[0mself\u001b[0m\u001b[1;33m.\u001b[0m\u001b[0m_call\u001b[0m\u001b[1;33m(\u001b[0m\u001b[1;33m*\u001b[0m\u001b[0margs\u001b[0m\u001b[1;33m,\u001b[0m \u001b[1;33m**\u001b[0m\u001b[0mkwds\u001b[0m\u001b[1;33m)\u001b[0m\u001b[1;33m\u001b[0m\u001b[1;33m\u001b[0m\u001b[0m\n\u001b[0m\u001b[0;32m    781\u001b[0m \u001b[1;33m\u001b[0m\u001b[0m\n\u001b[0;32m    782\u001b[0m       \u001b[0mnew_tracing_count\u001b[0m \u001b[1;33m=\u001b[0m \u001b[0mself\u001b[0m\u001b[1;33m.\u001b[0m\u001b[0m_get_tracing_count\u001b[0m\u001b[1;33m(\u001b[0m\u001b[1;33m)\u001b[0m\u001b[1;33m\u001b[0m\u001b[1;33m\u001b[0m\u001b[0m\n",
      "\u001b[1;32m~\\AppData\\Roaming\\Python\\Python37\\site-packages\\tensorflow\\python\\eager\\def_function.py\u001b[0m in \u001b[0;36m_call\u001b[1;34m(self, *args, **kwds)\u001b[0m\n\u001b[0;32m    805\u001b[0m       \u001b[1;31m# In this case we have created variables on the first call, so we run the\u001b[0m\u001b[1;33m\u001b[0m\u001b[1;33m\u001b[0m\u001b[1;33m\u001b[0m\u001b[0m\n\u001b[0;32m    806\u001b[0m       \u001b[1;31m# defunned version which is guaranteed to never create variables.\u001b[0m\u001b[1;33m\u001b[0m\u001b[1;33m\u001b[0m\u001b[1;33m\u001b[0m\u001b[0m\n\u001b[1;32m--> 807\u001b[1;33m       \u001b[1;32mreturn\u001b[0m \u001b[0mself\u001b[0m\u001b[1;33m.\u001b[0m\u001b[0m_stateless_fn\u001b[0m\u001b[1;33m(\u001b[0m\u001b[1;33m*\u001b[0m\u001b[0margs\u001b[0m\u001b[1;33m,\u001b[0m \u001b[1;33m**\u001b[0m\u001b[0mkwds\u001b[0m\u001b[1;33m)\u001b[0m  \u001b[1;31m# pylint: disable=not-callable\u001b[0m\u001b[1;33m\u001b[0m\u001b[1;33m\u001b[0m\u001b[0m\n\u001b[0m\u001b[0;32m    808\u001b[0m     \u001b[1;32melif\u001b[0m \u001b[0mself\u001b[0m\u001b[1;33m.\u001b[0m\u001b[0m_stateful_fn\u001b[0m \u001b[1;32mis\u001b[0m \u001b[1;32mnot\u001b[0m \u001b[1;32mNone\u001b[0m\u001b[1;33m:\u001b[0m\u001b[1;33m\u001b[0m\u001b[1;33m\u001b[0m\u001b[0m\n\u001b[0;32m    809\u001b[0m       \u001b[1;31m# Release the lock early so that multiple threads can perform the call\u001b[0m\u001b[1;33m\u001b[0m\u001b[1;33m\u001b[0m\u001b[1;33m\u001b[0m\u001b[0m\n",
      "\u001b[1;32m~\\AppData\\Roaming\\Python\\Python37\\site-packages\\tensorflow\\python\\eager\\function.py\u001b[0m in \u001b[0;36m__call__\u001b[1;34m(self, *args, **kwargs)\u001b[0m\n\u001b[0;32m   2827\u001b[0m     \u001b[1;32mwith\u001b[0m \u001b[0mself\u001b[0m\u001b[1;33m.\u001b[0m\u001b[0m_lock\u001b[0m\u001b[1;33m:\u001b[0m\u001b[1;33m\u001b[0m\u001b[1;33m\u001b[0m\u001b[0m\n\u001b[0;32m   2828\u001b[0m       \u001b[0mgraph_function\u001b[0m\u001b[1;33m,\u001b[0m \u001b[0margs\u001b[0m\u001b[1;33m,\u001b[0m \u001b[0mkwargs\u001b[0m \u001b[1;33m=\u001b[0m \u001b[0mself\u001b[0m\u001b[1;33m.\u001b[0m\u001b[0m_maybe_define_function\u001b[0m\u001b[1;33m(\u001b[0m\u001b[0margs\u001b[0m\u001b[1;33m,\u001b[0m \u001b[0mkwargs\u001b[0m\u001b[1;33m)\u001b[0m\u001b[1;33m\u001b[0m\u001b[1;33m\u001b[0m\u001b[0m\n\u001b[1;32m-> 2829\u001b[1;33m     \u001b[1;32mreturn\u001b[0m \u001b[0mgraph_function\u001b[0m\u001b[1;33m.\u001b[0m\u001b[0m_filtered_call\u001b[0m\u001b[1;33m(\u001b[0m\u001b[0margs\u001b[0m\u001b[1;33m,\u001b[0m \u001b[0mkwargs\u001b[0m\u001b[1;33m)\u001b[0m  \u001b[1;31m# pylint: disable=protected-access\u001b[0m\u001b[1;33m\u001b[0m\u001b[1;33m\u001b[0m\u001b[0m\n\u001b[0m\u001b[0;32m   2830\u001b[0m \u001b[1;33m\u001b[0m\u001b[0m\n\u001b[0;32m   2831\u001b[0m   \u001b[1;33m@\u001b[0m\u001b[0mproperty\u001b[0m\u001b[1;33m\u001b[0m\u001b[1;33m\u001b[0m\u001b[0m\n",
      "\u001b[1;32m~\\AppData\\Roaming\\Python\\Python37\\site-packages\\tensorflow\\python\\eager\\function.py\u001b[0m in \u001b[0;36m_filtered_call\u001b[1;34m(self, args, kwargs, cancellation_manager)\u001b[0m\n\u001b[0;32m   1846\u001b[0m                            resource_variable_ops.BaseResourceVariable))],\n\u001b[0;32m   1847\u001b[0m         \u001b[0mcaptured_inputs\u001b[0m\u001b[1;33m=\u001b[0m\u001b[0mself\u001b[0m\u001b[1;33m.\u001b[0m\u001b[0mcaptured_inputs\u001b[0m\u001b[1;33m,\u001b[0m\u001b[1;33m\u001b[0m\u001b[1;33m\u001b[0m\u001b[0m\n\u001b[1;32m-> 1848\u001b[1;33m         cancellation_manager=cancellation_manager)\n\u001b[0m\u001b[0;32m   1849\u001b[0m \u001b[1;33m\u001b[0m\u001b[0m\n\u001b[0;32m   1850\u001b[0m   \u001b[1;32mdef\u001b[0m \u001b[0m_call_flat\u001b[0m\u001b[1;33m(\u001b[0m\u001b[0mself\u001b[0m\u001b[1;33m,\u001b[0m \u001b[0margs\u001b[0m\u001b[1;33m,\u001b[0m \u001b[0mcaptured_inputs\u001b[0m\u001b[1;33m,\u001b[0m \u001b[0mcancellation_manager\u001b[0m\u001b[1;33m=\u001b[0m\u001b[1;32mNone\u001b[0m\u001b[1;33m)\u001b[0m\u001b[1;33m:\u001b[0m\u001b[1;33m\u001b[0m\u001b[1;33m\u001b[0m\u001b[0m\n",
      "\u001b[1;32m~\\AppData\\Roaming\\Python\\Python37\\site-packages\\tensorflow\\python\\eager\\function.py\u001b[0m in \u001b[0;36m_call_flat\u001b[1;34m(self, args, captured_inputs, cancellation_manager)\u001b[0m\n\u001b[0;32m   1922\u001b[0m       \u001b[1;31m# No tape is watching; skip to running the function.\u001b[0m\u001b[1;33m\u001b[0m\u001b[1;33m\u001b[0m\u001b[1;33m\u001b[0m\u001b[0m\n\u001b[0;32m   1923\u001b[0m       return self._build_call_outputs(self._inference_function.call(\n\u001b[1;32m-> 1924\u001b[1;33m           ctx, args, cancellation_manager=cancellation_manager))\n\u001b[0m\u001b[0;32m   1925\u001b[0m     forward_backward = self._select_forward_and_backward_functions(\n\u001b[0;32m   1926\u001b[0m         \u001b[0margs\u001b[0m\u001b[1;33m,\u001b[0m\u001b[1;33m\u001b[0m\u001b[1;33m\u001b[0m\u001b[0m\n",
      "\u001b[1;32m~\\AppData\\Roaming\\Python\\Python37\\site-packages\\tensorflow\\python\\eager\\function.py\u001b[0m in \u001b[0;36mcall\u001b[1;34m(self, ctx, args, cancellation_manager)\u001b[0m\n\u001b[0;32m    548\u001b[0m               \u001b[0minputs\u001b[0m\u001b[1;33m=\u001b[0m\u001b[0margs\u001b[0m\u001b[1;33m,\u001b[0m\u001b[1;33m\u001b[0m\u001b[1;33m\u001b[0m\u001b[0m\n\u001b[0;32m    549\u001b[0m               \u001b[0mattrs\u001b[0m\u001b[1;33m=\u001b[0m\u001b[0mattrs\u001b[0m\u001b[1;33m,\u001b[0m\u001b[1;33m\u001b[0m\u001b[1;33m\u001b[0m\u001b[0m\n\u001b[1;32m--> 550\u001b[1;33m               ctx=ctx)\n\u001b[0m\u001b[0;32m    551\u001b[0m         \u001b[1;32melse\u001b[0m\u001b[1;33m:\u001b[0m\u001b[1;33m\u001b[0m\u001b[1;33m\u001b[0m\u001b[0m\n\u001b[0;32m    552\u001b[0m           outputs = execute.execute_with_cancellation(\n",
      "\u001b[1;32m~\\AppData\\Roaming\\Python\\Python37\\site-packages\\tensorflow\\python\\eager\\execute.py\u001b[0m in \u001b[0;36mquick_execute\u001b[1;34m(op_name, num_outputs, inputs, attrs, ctx, name)\u001b[0m\n\u001b[0;32m     58\u001b[0m     \u001b[0mctx\u001b[0m\u001b[1;33m.\u001b[0m\u001b[0mensure_initialized\u001b[0m\u001b[1;33m(\u001b[0m\u001b[1;33m)\u001b[0m\u001b[1;33m\u001b[0m\u001b[1;33m\u001b[0m\u001b[0m\n\u001b[0;32m     59\u001b[0m     tensors = pywrap_tfe.TFE_Py_Execute(ctx._handle, device_name, op_name,\n\u001b[1;32m---> 60\u001b[1;33m                                         inputs, attrs, num_outputs)\n\u001b[0m\u001b[0;32m     61\u001b[0m   \u001b[1;32mexcept\u001b[0m \u001b[0mcore\u001b[0m\u001b[1;33m.\u001b[0m\u001b[0m_NotOkStatusException\u001b[0m \u001b[1;32mas\u001b[0m \u001b[0me\u001b[0m\u001b[1;33m:\u001b[0m\u001b[1;33m\u001b[0m\u001b[1;33m\u001b[0m\u001b[0m\n\u001b[0;32m     62\u001b[0m     \u001b[1;32mif\u001b[0m \u001b[0mname\u001b[0m \u001b[1;32mis\u001b[0m \u001b[1;32mnot\u001b[0m \u001b[1;32mNone\u001b[0m\u001b[1;33m:\u001b[0m\u001b[1;33m\u001b[0m\u001b[1;33m\u001b[0m\u001b[0m\n",
      "\u001b[1;31mKeyboardInterrupt\u001b[0m: "
     ]
    }
   ],
   "source": [
    "\n",
    "# callback = tf.keras.callbacks.EarlyStopping(monitor='val_loss', patience=3)\n",
    "tuner.search(train_generator,\n",
    "             steps_per_epoch=381607// 3817,\n",
    "             epochs=30,\n",
    "             validation_data=validation_generator,\n",
    "             validation_steps=19999 // 1200,\n",
    "             verbose=1,\n",
    "             callbacks=my_callbacks)"
   ]
  },
  {
   "cell_type": "code",
   "execution_count": null,
   "metadata": {},
   "outputs": [],
   "source": []
  }
 ]
}